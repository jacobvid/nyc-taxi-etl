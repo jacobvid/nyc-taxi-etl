{
 "cells": [
  {
   "cell_type": "code",
   "execution_count": 0,
   "metadata": {
    "application/vnd.databricks.v1+cell": {
     "cellMetadata": {
      "byteLimit": 2048000,
      "rowLimit": 10000
     },
     "inputWidgets": {},
     "nuid": "eeb611e3-01ba-4f5d-87f0-1e2f8a132c58",
     "showTitle": false,
     "tableResultSettingsMap": {},
     "title": ""
    }
   },
   "outputs": [
    {
     "output_type": "stream",
     "name": "stdout",
     "output_type": "stream",
     "text": [
      "Created: dbfs:/nyc-taxi/raw/\nCreated: dbfs:/nyc-taxi/bronze/\nCreated: dbfs:/nyc-taxi/silver/\nCreated: dbfs:/nyc-taxi/gold/\nMoved file to raw zone\n"
     ]
    }
   ],
   "source": [
    "# Create directories in DBFS to simulate a data lake\n",
    "base_path = \"dbfs:/nyc-taxi/\"\n",
    "\n",
    "# Create raw, bronze, silver, and gold folders\n",
    "for layer in [\"raw\", \"bronze\", \"silver\", \"gold\"]:\n",
    "    path = base_path + layer + \"/\"\n",
    "    dbutils.fs.mkdirs(path)\n",
    "    print(f\"Created: {path}\")\n",
    "\n",
    "\n",
    "# original data path: dbfs:/FileStore/shared_uploads/vidergarjm@gmail.com/yellow_tripdata_2023_01.parquet\n",
    "\n",
    "# Move uploaded file into raw zone\n",
    "source_path = \"dbfs:/FileStore/shared_uploads/vidergarjm@gmail.com/yellow_tripdata_2023_01.parquet\"\n",
    "destination_path = \"dbfs:/nyc-taxi/raw/yellow_tripdata_2023_01.parquet\"\n",
    "\n",
    "dbutils.fs.cp(source_path, destination_path)\n",
    "print(\"Moved file to raw zone\")\n"
   ]
  }
 ],
 "metadata": {
  "application/vnd.databricks.v1+notebook": {
   "computePreferences": null,
   "dashboards": [],
   "environmentMetadata": {
    "base_environment": "",
    "environment_version": "1"
   },
   "inputWidgetPreferences": null,
   "language": "python",
   "notebookMetadata": {
    "pythonIndentUnit": 4
   },
   "notebookName": "00_setup",
   "widgets": {}
  }
 },
 "nbformat": 4,
 "nbformat_minor": 0
}
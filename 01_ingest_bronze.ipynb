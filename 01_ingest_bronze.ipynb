{
 "cells": [
  {
   "cell_type": "code",
   "execution_count": 0,
   "metadata": {
    "application/vnd.databricks.v1+cell": {
     "cellMetadata": {
      "byteLimit": 2048000,
      "rowLimit": 10000
     },
     "inputWidgets": {},
     "nuid": "5e040fe4-a302-4f13-b815-e1c9b1256971",
     "showTitle": false,
     "tableResultSettingsMap": {},
     "title": ""
    }
   },
   "outputs": [
    {
     "output_type": "stream",
     "name": "stdout",
     "output_type": "stream",
     "text": [
      "Bronze table created successfully\n"
     ]
    }
   ],
   "source": [
    "from pyspark.sql.functions import input_file_name\n",
    "\n",
    "# Paths\n",
    "raw_path = \"dbfs:/FileStore/shared_uploads/vidergarjm@gmail.com/yellow_tripdata_2023_01.parquet\"\n",
    "bronze_path = \"dbfs:/nyc-taxi/bronze/\"\n",
    "\n",
    "# Step 1: Read the raw parquet file\n",
    "df_raw = (\n",
    "    spark.read.parquet(raw_path)\n",
    "    .withColumn(\"source_file\", input_file_name())\n",
    ")\n",
    "\n",
    "# Step 2: Write to Delta table (overwrite to clean up prior versions)\n",
    "df_raw.write.format(\"delta\").mode(\"overwrite\").save(bronze_path)\n",
    "\n",
    "# Step 3: Register the Delta table (if not already registered)\n",
    "spark.sql(\"DROP TABLE IF EXISTS nyc_taxi_bronze\")\n",
    "spark.sql(f\"CREATE TABLE nyc_taxi_bronze USING DELTA LOCATION '{bronze_path}'\")\n",
    "\n",
    "print(\"Bronze table created successfully\")\n"
   ]
  }
 ],
 "metadata": {
  "application/vnd.databricks.v1+notebook": {
   "computePreferences": null,
   "dashboards": [],
   "environmentMetadata": {
    "base_environment": "",
    "environment_version": "1"
   },
   "inputWidgetPreferences": null,
   "language": "python",
   "notebookMetadata": {
    "pythonIndentUnit": 4
   },
   "notebookName": "01_ingest_bronze",
   "widgets": {}
  }
 },
 "nbformat": 4,
 "nbformat_minor": 0
}
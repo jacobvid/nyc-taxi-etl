{
 "cells": [
  {
   "cell_type": "code",
   "execution_count": 0,
   "metadata": {
    "application/vnd.databricks.v1+cell": {
     "cellMetadata": {
      "byteLimit": 2048000,
      "rowLimit": 10000
     },
     "inputWidgets": {},
     "nuid": "d20d0a8b-0f5b-4426-9f95-f125649f5c76",
     "showTitle": false,
     "tableResultSettingsMap": {},
     "title": ""
    }
   },
   "outputs": [
    {
     "output_type": "stream",
     "name": "stdout",
     "output_type": "stream",
     "text": [
      "Gold layer created and registered successfully.\n"
     ]
    }
   ],
   "source": [
    "from pyspark.sql.functions import avg\n",
    "\n",
    "# Load Silver Layer\n",
    "silver_df = spark.read.format(\"delta\").load(\"dbfs:/nyc-taxi/silver/\")\n",
    "\n",
    "# Aggregate and rename column\n",
    "gold_df = silver_df.groupBy(\"passenger_count\").agg(\n",
    "    avg(\"trip_distance\").alias(\"avg_trip_distance\")\n",
    ")\n",
    "\n",
    "# Save Gold Layer\n",
    "gold_path = \"dbfs:/nyc-taxi/gold/\"\n",
    "gold_df.write.format(\"delta\").mode(\"overwrite\").save(gold_path)\n",
    "\n",
    "# Register table\n",
    "spark.sql(\"DROP TABLE IF EXISTS nyc_taxi_gold\")\n",
    "spark.sql(f\"CREATE TABLE nyc_taxi_gold USING DELTA LOCATION '{gold_path}'\")\n",
    "\n",
    "print(\"Gold layer created and registered successfully.\")\n"
   ]
  }
 ],
 "metadata": {
  "application/vnd.databricks.v1+notebook": {
   "computePreferences": null,
   "dashboards": [],
   "environmentMetadata": {
    "base_environment": "",
    "environment_version": "1"
   },
   "inputWidgetPreferences": null,
   "language": "python",
   "notebookMetadata": {
    "pythonIndentUnit": 4
   },
   "notebookName": "03_aggregate_gold",
   "widgets": {}
  }
 },
 "nbformat": 4,
 "nbformat_minor": 0
}
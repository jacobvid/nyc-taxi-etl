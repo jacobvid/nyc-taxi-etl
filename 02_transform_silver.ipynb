{
 "cells": [
  {
   "cell_type": "code",
   "execution_count": 0,
   "metadata": {
    "application/vnd.databricks.v1+cell": {
     "cellMetadata": {
      "byteLimit": 2048000,
      "rowLimit": 10000
     },
     "inputWidgets": {},
     "nuid": "1e7c22ef-c9fc-4f24-801f-d3afefabee6f",
     "showTitle": false,
     "tableResultSettingsMap": {},
     "title": ""
    }
   },
   "outputs": [
    {
     "output_type": "stream",
     "name": "stdout",
     "output_type": "stream",
     "text": [
      "Silver layer rebuilt with clean schema and metadata.\n"
     ]
    }
   ],
   "source": [
    "import re\n",
    "\n",
    "def clean_column_names(df):\n",
    "    # Remove all characters except letters, digits, underscore\n",
    "    new_cols = [re.sub(r'[^0-9a-zA-Z_]', '', c).lower() for c in df.columns]\n",
    "    \n",
    "    # Ensure uniqueness in case of collisions\n",
    "    seen = {}\n",
    "    clean_cols = []\n",
    "    for col in new_cols:\n",
    "        if col in seen:\n",
    "            seen[col] += 1\n",
    "            clean_cols.append(f\"{col}_{seen[col]}\")\n",
    "        else:\n",
    "            seen[col] = 0\n",
    "            clean_cols.append(col)\n",
    "    \n",
    "    return df.toDF(*clean_cols)\n",
    "\n",
    "# Load from Bronze\n",
    "bronze_df = spark.read.format(\"delta\").load(\"dbfs:/nyc-taxi/bronze/\")\n",
    "bronze_df = clean_column_names(bronze_df)\n",
    "\n",
    "# Filter data\n",
    "silver_df = bronze_df.filter(\n",
    "    (bronze_df.passenger_count.isNotNull()) &\n",
    "    (bronze_df.trip_distance > 0)\n",
    ")\n",
    "\n",
    "# Write to Silver path\n",
    "silver_path = \"dbfs:/nyc-taxi/silver/\"\n",
    "silver_df.write.format(\"delta\").mode(\"overwrite\").save(silver_path)\n",
    "\n",
    "# Register the cleaned Silver table\n",
    "spark.sql(f\"CREATE TABLE nyc_taxi_silver USING DELTA LOCATION '{silver_path}'\")\n",
    "\n",
    "print(\"Silver layer rebuilt with clean schema and metadata.\")\n"
   ]
  }
 ],
 "metadata": {
  "application/vnd.databricks.v1+notebook": {
   "computePreferences": null,
   "dashboards": [],
   "environmentMetadata": {
    "base_environment": "",
    "environment_version": "1"
   },
   "inputWidgetPreferences": null,
   "language": "python",
   "notebookMetadata": {
    "pythonIndentUnit": 4
   },
   "notebookName": "02_transform_silver",
   "widgets": {}
  }
 },
 "nbformat": 4,
 "nbformat_minor": 0
}